{
 "cells": [
  {
   "cell_type": "code",
   "execution_count": 43,
   "metadata": {},
   "outputs": [
    {
     "name": "stdout",
     "output_type": "stream",
     "text": [
      "Imported Libraries\n"
     ]
    }
   ],
   "source": [
    "import time\n",
    "import numpy as np\n",
    "import pandas as pd\n",
    "from selenium import webdriver\n",
    "from selenium.webdriver.common.by import By\n",
    "from selenium.webdriver.common.keys import Keys\n",
    "from selenium.webdriver.chrome.service import Service\n",
    "from webdriver_manager.chrome import ChromeDriverManager\n",
    "import warnings\n",
    "warnings.filterwarnings('ignore')\n",
    "\n",
    "print(\"Imported Libraries\")"
   ]
  },
  {
   "cell_type": "code",
   "execution_count": 44,
   "metadata": {},
   "outputs": [
    {
     "name": "stdout",
     "output_type": "stream",
     "text": [
      "['supply', 'chain', 'operations', 'procurement', 'inventory', 'sourcing', 'intern']\n"
     ]
    }
   ],
   "source": [
    "user_input_job_title = input('Enter Job Titles (with comma separated):').split()\n",
    "print(user_input_job_title)"
   ]
  },
  {
   "cell_type": "code",
   "execution_count": 45,
   "metadata": {},
   "outputs": [
    {
     "name": "stdout",
     "output_type": "stream",
     "text": [
      "supply%2C%20chain%2C%20operations%2C%20procurement%2C%20inventory%2C%20sourcing%2C%20intern\n"
     ]
    }
   ],
   "source": [
    "b = []\n",
    "for i in user_input_job_title:\n",
    "    x = i.split()\n",
    "    y = '%20'.join(x)\n",
    "    b.append(y)\n",
    "\n",
    "job_title = '%2C%20'.join(b)\n",
    "print(job_title)"
   ]
  },
  {
   "cell_type": "code",
   "execution_count": 46,
   "metadata": {},
   "outputs": [
    {
     "name": "stdout",
     "output_type": "stream",
     "text": [
      "https://www.linkedin.com/jobs/search/?currentJobId=3774777361&f_TPR=r604800&geoId=104194190&keywords=supply%2C%20chain%2C%20operations%2C%20procurement%2C%20inventory%2C%20sourcing%2C%20intern&location=Dallas%2C%20Texas%2C%20United%20States&origin=JOB_SEARCH_PAGE_LOCATION_AUTOCOMPLETE&originalSubdomain=in&refresh=true\n"
     ]
    }
   ],
   "source": [
    "link = f\"https://www.linkedin.com/jobs/search/?currentJobId=3774777361&f_TPR=r604800&geoId=104194190&keywords={job_title}&location=Dallas%2C%20Texas%2C%20United%20States&origin=JOB_SEARCH_PAGE_LOCATION_AUTOCOMPLETE&originalSubdomain=in&refresh=true\"\n",
    "# link = f\"https://www.linkedin.com/jobs/search/?currentJobId=3810472978&f_E=1&f_TPR=r604800&geoId=104194190&keywords={job_title}&location=Dallas%2C%20Texas%2C%20United%20States&origin=JOB_SEARCH_PAGE_JOB_FILTER&originalSubdomain=in&refresh=true\"\n",
    "print(link)"
   ]
  },
  {
   "cell_type": "code",
   "execution_count": 47,
   "metadata": {},
   "outputs": [],
   "source": [
    "driver = webdriver.Chrome(service=Service(ChromeDriverManager().install()))\n",
    "driver.maximize_window()\n",
    "\n",
    "driver.get(link)\n",
    "driver.implicitly_wait(10)"
   ]
  },
  {
   "cell_type": "code",
   "execution_count": 48,
   "metadata": {},
   "outputs": [],
   "source": [
    "for i in range(0,2):\n",
    "    driver.execute_script(\"window.scrollTo(0, document.body.scrollHeight);\")\n",
    "    time.sleep(5)\n",
    "\n",
    "    try:\n",
    "        x = driver.find_element(by=By.CSS_SELECTOR, value=\"button[aria-label='See more jobs']\").click()\n",
    "        time.sleep(3)\n",
    "    except:\n",
    "        pass"
   ]
  },
  {
   "cell_type": "code",
   "execution_count": 49,
   "metadata": {},
   "outputs": [
    {
     "name": "stdout",
     "output_type": "stream",
     "text": [
      "Williams-Sonoma, Inc.\n"
     ]
    }
   ],
   "source": [
    "company_name = []\n",
    "\n",
    "try:\n",
    "    company = driver.find_elements(by=By.CSS_SELECTOR, value='h4[class=\"base-search-card__subtitle\"]')\n",
    "    for i in company:\n",
    "        company_name.append(i.text)\n",
    "\n",
    "except:\n",
    "    pass\n",
    "\n",
    "for name in company_name:\n",
    "    print(name)"
   ]
  },
  {
   "cell_type": "code",
   "execution_count": 50,
   "metadata": {},
   "outputs": [
    {
     "name": "stdout",
     "output_type": "stream",
     "text": [
      "2023 Supply Chain Internship\n"
     ]
    }
   ],
   "source": [
    "job_title = []\n",
    "\n",
    "try:\n",
    "    title = driver.find_elements(by=By.CSS_SELECTOR, value='h3[class=\"base-search-card__title\"]')\n",
    "    for i in title:\n",
    "        job_title.append(i.text)\n",
    "\n",
    "except:\n",
    "    pass\n",
    "\n",
    "for title in job_title:\n",
    "    print(title)"
   ]
  },
  {
   "cell_type": "code",
   "execution_count": 51,
   "metadata": {},
   "outputs": [
    {
     "name": "stdout",
     "output_type": "stream",
     "text": [
      "City of Industry, CA\n"
     ]
    }
   ],
   "source": [
    "company_location = []\n",
    "\n",
    "try:\n",
    "    location = driver.find_elements(by=By.CSS_SELECTOR, value='span[class=\"job-search-card__location\"]')\n",
    "    for i in location:\n",
    "        company_location.append(i.text)\n",
    "\n",
    "except:\n",
    "    pass\n",
    "\n",
    "for location in company_location:\n",
    "    print(location)"
   ]
  },
  {
   "cell_type": "code",
   "execution_count": 52,
   "metadata": {},
   "outputs": [
    {
     "name": "stdout",
     "output_type": "stream",
     "text": [
      "https://www.linkedin.com/jobs/supply-chain-operations-procurement-inventory-sourcing-intern-jobs?currentJobId=3710524271&trk=public_jobs_jserp-result_search-card\n",
      "https://www.linkedin.com/jobs/supply-chain-operations-procurement-inventory-sourcing-intern-jobs?trk=public_jobs_see-all-jobs-cta\n"
     ]
    }
   ],
   "source": [
    "job_url = []\n",
    "\n",
    "try:\n",
    "    url = driver.find_elements(by=By.XPATH, value='//a[contains(@href, \"/jobs/\")]')\n",
    "    for i in url:\n",
    "        job_url.append(i.get_attribute('href'))\n",
    "\n",
    "except:\n",
    "    pass\n",
    "\n",
    "for url in job_url:\n",
    "    print(url)"
   ]
  },
  {
   "cell_type": "code",
   "execution_count": 53,
   "metadata": {},
   "outputs": [
    {
     "data": {
      "text/html": [
       "<div>\n",
       "<style scoped>\n",
       "    .dataframe tbody tr th:only-of-type {\n",
       "        vertical-align: middle;\n",
       "    }\n",
       "\n",
       "    .dataframe tbody tr th {\n",
       "        vertical-align: top;\n",
       "    }\n",
       "\n",
       "    .dataframe thead th {\n",
       "        text-align: right;\n",
       "    }\n",
       "</style>\n",
       "<table border=\"1\" class=\"dataframe\">\n",
       "  <thead>\n",
       "    <tr style=\"text-align: right;\">\n",
       "      <th></th>\n",
       "      <th>Company Name</th>\n",
       "      <th>Job Title</th>\n",
       "      <th>Location</th>\n",
       "      <th>Website URL</th>\n",
       "    </tr>\n",
       "  </thead>\n",
       "  <tbody>\n",
       "    <tr>\n",
       "      <th>0</th>\n",
       "      <td>Williams-Sonoma, Inc.</td>\n",
       "      <td>2023 Supply Chain Internship</td>\n",
       "      <td>City of Industry, CA</td>\n",
       "      <td>https://www.linkedin.com/jobs/supply-chain-ope...</td>\n",
       "    </tr>\n",
       "  </tbody>\n",
       "</table>\n",
       "</div>"
      ],
      "text/plain": [
       "            Company Name                     Job Title              Location  \\\n",
       "0  Williams-Sonoma, Inc.  2023 Supply Chain Internship  City of Industry, CA   \n",
       "\n",
       "                                         Website URL  \n",
       "0  https://www.linkedin.com/jobs/supply-chain-ope...  "
      ]
     },
     "execution_count": 53,
     "metadata": {},
     "output_type": "execute_result"
    }
   ],
   "source": [
    "df = pd.DataFrame(company_name, columns=['Company Name'])\n",
    "df['Job Title'] = pd.DataFrame(job_title)\n",
    "df['Location'] = pd.DataFrame(company_location)\n",
    "df['Website URL'] = pd.DataFrame(job_url)\n",
    "df"
   ]
  },
  {
   "cell_type": "code",
   "execution_count": 54,
   "metadata": {},
   "outputs": [],
   "source": [
    "def job_title_filter(x, user_input_job_title):\n",
    "    \n",
    "    s = [i.lower() for i in user_input_job_title]\n",
    "    suggestion = []\n",
    "    for i in s:\n",
    "        suggestion.extend(i.split())\n",
    "\n",
    "    s = x.split()\n",
    "    a = [i.lower() for i in s]\n",
    "    \n",
    "    intersection = list(set(suggestion).intersection(set(a)))\n",
    "    return x if len(intersection)>1 else np.nan"
   ]
  },
  {
   "cell_type": "code",
   "execution_count": 55,
   "metadata": {},
   "outputs": [
    {
     "data": {
      "text/html": [
       "<div>\n",
       "<style scoped>\n",
       "    .dataframe tbody tr th:only-of-type {\n",
       "        vertical-align: middle;\n",
       "    }\n",
       "\n",
       "    .dataframe tbody tr th {\n",
       "        vertical-align: top;\n",
       "    }\n",
       "\n",
       "    .dataframe thead th {\n",
       "        text-align: right;\n",
       "    }\n",
       "</style>\n",
       "<table border=\"1\" class=\"dataframe\">\n",
       "  <thead>\n",
       "    <tr style=\"text-align: right;\">\n",
       "      <th></th>\n",
       "      <th>Company Name</th>\n",
       "      <th>Job Title</th>\n",
       "      <th>Location</th>\n",
       "      <th>Website URL</th>\n",
       "    </tr>\n",
       "  </thead>\n",
       "  <tbody>\n",
       "    <tr>\n",
       "      <th>0</th>\n",
       "      <td>Williams-Sonoma, Inc.</td>\n",
       "      <td>2023 Supply Chain Internship</td>\n",
       "      <td>City of Industry, CA</td>\n",
       "      <td>https://www.linkedin.com/jobs/supply-chain-ope...</td>\n",
       "    </tr>\n",
       "  </tbody>\n",
       "</table>\n",
       "</div>"
      ],
      "text/plain": [
       "            Company Name                     Job Title              Location  \\\n",
       "0  Williams-Sonoma, Inc.  2023 Supply Chain Internship  City of Industry, CA   \n",
       "\n",
       "                                         Website URL  \n",
       "0  https://www.linkedin.com/jobs/supply-chain-ope...  "
      ]
     },
     "execution_count": 55,
     "metadata": {},
     "output_type": "execute_result"
    }
   ],
   "source": [
    "df['Job Title'] = df['Job Title'].apply(lambda x: job_title_filter(x, user_input_job_title))\n",
    "df.reset_index(drop=True, inplace=True)\n",
    "df"
   ]
  },
  {
   "cell_type": "code",
   "execution_count": 56,
   "metadata": {},
   "outputs": [
    {
     "data": {
      "text/html": [
       "<div>\n",
       "<style scoped>\n",
       "    .dataframe tbody tr th:only-of-type {\n",
       "        vertical-align: middle;\n",
       "    }\n",
       "\n",
       "    .dataframe tbody tr th {\n",
       "        vertical-align: top;\n",
       "    }\n",
       "\n",
       "    .dataframe thead th {\n",
       "        text-align: right;\n",
       "    }\n",
       "</style>\n",
       "<table border=\"1\" class=\"dataframe\">\n",
       "  <thead>\n",
       "    <tr style=\"text-align: right;\">\n",
       "      <th></th>\n",
       "      <th>Company Name</th>\n",
       "      <th>Job Title</th>\n",
       "      <th>Location</th>\n",
       "      <th>Website URL</th>\n",
       "    </tr>\n",
       "  </thead>\n",
       "  <tbody>\n",
       "    <tr>\n",
       "      <th>0</th>\n",
       "      <td>Williams-Sonoma, Inc.</td>\n",
       "      <td>2023 Supply Chain Internship</td>\n",
       "      <td>City of Industry, CA</td>\n",
       "      <td>https://www.linkedin.com/jobs/supply-chain-ope...</td>\n",
       "    </tr>\n",
       "  </tbody>\n",
       "</table>\n",
       "</div>"
      ],
      "text/plain": [
       "            Company Name                     Job Title              Location  \\\n",
       "0  Williams-Sonoma, Inc.  2023 Supply Chain Internship  City of Industry, CA   \n",
       "\n",
       "                                         Website URL  \n",
       "0  https://www.linkedin.com/jobs/supply-chain-ope...  "
      ]
     },
     "execution_count": 56,
     "metadata": {},
     "output_type": "execute_result"
    }
   ],
   "source": [
    "df=df.iloc[:10,:]\n",
    "df"
   ]
  },
  {
   "cell_type": "code",
   "execution_count": 57,
   "metadata": {},
   "outputs": [],
   "source": [
    "# def description(link):\n",
    "\n",
    "#     driver.get(link)\n",
    "#     time.sleep(3)\n",
    "\n",
    "#     driver.find_element(by=By.CSS_SELECTOR, value='button[data-tracking-control-name=\"public_jobs_show-more-html-btn\"]').click()\n",
    "#     time.sleep(2)\n",
    "\n",
    "#     description = driver.find_elements(by=By.CSS_SELECTOR, value='div[class=\"jobs-box__html-content jobs-description-content__text t-14 t-normal jobs-description-content__text--stretch\"]')\n",
    "#     driver.implicitly_wait(4)\n",
    "    \n",
    "#     for j in description:\n",
    "#         return j.text"
   ]
  },
  {
   "cell_type": "code",
   "execution_count": 58,
   "metadata": {},
   "outputs": [],
   "source": [
    "# website_url = df['Website URL'].tolist()\n",
    "\n",
    "# job_description = []\n",
    "\n",
    "# for i in website_url:\n",
    "#     data = description(i)\n",
    "#     if data is not None and len(data.strip()) > 0:\n",
    "#         job_description.append(data)\n",
    "#     else:\n",
    "#         job_description.append('Description Not Available')\n",
    "\n",
    "# print(job_description)"
   ]
  },
  {
   "cell_type": "code",
   "execution_count": 59,
   "metadata": {},
   "outputs": [
    {
     "name": "stdout",
     "output_type": "stream",
     "text": [
      "Company Name : Williams-Sonoma, Inc.\n",
      "Job Title    : 2023 Supply Chain Internship\n",
      "Location     : City of Industry, CA\n",
      "Website URL  : https://www.linkedin.com/jobs/supply-chain-operations-procurement-inventory-sourcing-intern-jobs?currentJobId=3710524271&trk=public_jobs_jserp-result_search-card\n",
      "\n",
      "\n"
     ]
    }
   ],
   "source": [
    "l = len(df['Company Name'])\n",
    "for i in range(0,l):\n",
    "    print(f\"Company Name : {df.iloc[i,0]}\")\n",
    "    print(f\"Job Title    : {df.iloc[i,1]}\")\n",
    "    print(f\"Location     : {df.iloc[i,2]}\")\n",
    "    print(f\"Website URL  : {df.iloc[i,3]}\")\n",
    "    # print(f\"Description  : {df.iloc[i,4]}\")\n",
    "    print(\"\\n\")"
   ]
  }
 ],
 "metadata": {
  "kernelspec": {
   "display_name": "base",
   "language": "python",
   "name": "python3"
  },
  "language_info": {
   "codemirror_mode": {
    "name": "ipython",
    "version": 3
   },
   "file_extension": ".py",
   "mimetype": "text/x-python",
   "name": "python",
   "nbconvert_exporter": "python",
   "pygments_lexer": "ipython3",
   "version": "3.9.7"
  }
 },
 "nbformat": 4,
 "nbformat_minor": 2
}
